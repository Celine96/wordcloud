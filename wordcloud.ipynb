{
 "cells": [
  {
   "cell_type": "markdown",
   "metadata": {},
   "source": [
    "# Text visualization\n",
    "## wordcloud is an image of words where the size of each word indicates its frequency or importance\n"
   ]
  },
  {
   "cell_type": "code",
   "execution_count": 1,
   "metadata": {},
   "outputs": [],
   "source": [
    "import pandas as pd"
   ]
  },
  {
   "cell_type": "code",
   "execution_count": 2,
   "metadata": {},
   "outputs": [],
   "source": [
    "import os"
   ]
  },
  {
   "cell_type": "code",
   "execution_count": 11,
   "metadata": {},
   "outputs": [
    {
     "data": {
      "text/html": [
       "<div>\n",
       "<style scoped>\n",
       "    .dataframe tbody tr th:only-of-type {\n",
       "        vertical-align: middle;\n",
       "    }\n",
       "\n",
       "    .dataframe tbody tr th {\n",
       "        vertical-align: top;\n",
       "    }\n",
       "\n",
       "    .dataframe thead th {\n",
       "        text-align: right;\n",
       "    }\n",
       "</style>\n",
       "<table border=\"1\" class=\"dataframe\">\n",
       "  <thead>\n",
       "    <tr style=\"text-align: right;\">\n",
       "      <th></th>\n",
       "      <th>sayings</th>\n",
       "    </tr>\n",
       "  </thead>\n",
       "  <tbody>\n",
       "    <tr>\n",
       "      <th>0</th>\n",
       "      <td>1. “In the end, it’s not the years in your lif...</td>\n",
       "    </tr>\n",
       "    <tr>\n",
       "      <th>1</th>\n",
       "      <td>2. “The greatest day in your life and mine is ...</td>\n",
       "    </tr>\n",
       "    <tr>\n",
       "      <th>2</th>\n",
       "      <td>3. “Life is not a problem to be solved, but a ...</td>\n",
       "    </tr>\n",
       "    <tr>\n",
       "      <th>3</th>\n",
       "      <td>4. “What we think determines what happens to u...</td>\n",
       "    </tr>\n",
       "    <tr>\n",
       "      <th>4</th>\n",
       "      <td>5. Adolescence: When youth assumes the respons...</td>\n",
       "    </tr>\n",
       "    <tr>\n",
       "      <th>5</th>\n",
       "      <td>6. Adult education often begins with a teenage...</td>\n",
       "    </tr>\n",
       "    <tr>\n",
       "      <th>6</th>\n",
       "      <td>7. Alimony is sometimes known as bounty on the...</td>\n",
       "    </tr>\n",
       "    <tr>\n",
       "      <th>7</th>\n",
       "      <td>8. Alimony is the high cost of leaving.</td>\n",
       "    </tr>\n",
       "    <tr>\n",
       "      <th>8</th>\n",
       "      <td>9. All children, even those who don’t deserve ...</td>\n",
       "    </tr>\n",
       "    <tr>\n",
       "      <th>9</th>\n",
       "      <td>10. All people are equal but it’s what they’re...</td>\n",
       "    </tr>\n",
       "  </tbody>\n",
       "</table>\n",
       "</div>"
      ],
      "text/plain": [
       "                                             sayings\n",
       "0  1. “In the end, it’s not the years in your lif...\n",
       "1  2. “The greatest day in your life and mine is ...\n",
       "2  3. “Life is not a problem to be solved, but a ...\n",
       "3  4. “What we think determines what happens to u...\n",
       "4  5. Adolescence: When youth assumes the respons...\n",
       "5  6. Adult education often begins with a teenage...\n",
       "6  7. Alimony is sometimes known as bounty on the...\n",
       "7            8. Alimony is the high cost of leaving.\n",
       "8  9. All children, even those who don’t deserve ...\n",
       "9  10. All people are equal but it’s what they’re..."
      ]
     },
     "execution_count": 11,
     "metadata": {},
     "output_type": "execute_result"
    }
   ],
   "source": [
    "wisdom=pd.read_csv('wisdom_quote.csv', names=['sayings'])\n",
    "wisdom.head(10)"
   ]
  },
  {
   "cell_type": "code",
   "execution_count": 12,
   "metadata": {},
   "outputs": [
    {
     "data": {
      "text/html": [
       "<div>\n",
       "<style scoped>\n",
       "    .dataframe tbody tr th:only-of-type {\n",
       "        vertical-align: middle;\n",
       "    }\n",
       "\n",
       "    .dataframe tbody tr th {\n",
       "        vertical-align: top;\n",
       "    }\n",
       "\n",
       "    .dataframe thead th {\n",
       "        text-align: right;\n",
       "    }\n",
       "</style>\n",
       "<table border=\"1\" class=\"dataframe\">\n",
       "  <thead>\n",
       "    <tr style=\"text-align: right;\">\n",
       "      <th></th>\n",
       "      <th>sayings</th>\n",
       "    </tr>\n",
       "  </thead>\n",
       "  <tbody>\n",
       "    <tr>\n",
       "      <th>0</th>\n",
       "      <td>1. “In the end, it’s not the years in your lif...</td>\n",
       "    </tr>\n",
       "    <tr>\n",
       "      <th>1</th>\n",
       "      <td>2. “The greatest day in your life and mine is ...</td>\n",
       "    </tr>\n",
       "    <tr>\n",
       "      <th>2</th>\n",
       "      <td>3. “Life is not a problem to be solved, but a ...</td>\n",
       "    </tr>\n",
       "    <tr>\n",
       "      <th>3</th>\n",
       "      <td>4. “What we think determines what happens to u...</td>\n",
       "    </tr>\n",
       "    <tr>\n",
       "      <th>4</th>\n",
       "      <td>5. Adolescence: When youth assumes the respons...</td>\n",
       "    </tr>\n",
       "    <tr>\n",
       "      <th>...</th>\n",
       "      <td>...</td>\n",
       "    </tr>\n",
       "    <tr>\n",
       "      <th>98</th>\n",
       "      <td>96. A practical nurse is one who marries a wea...</td>\n",
       "    </tr>\n",
       "    <tr>\n",
       "      <th>99</th>\n",
       "      <td>97. A rabbit’s foot is a poor substitute for h...</td>\n",
       "    </tr>\n",
       "    <tr>\n",
       "      <th>100</th>\n",
       "      <td>98. A raving beauty is a girl who finished sec...</td>\n",
       "    </tr>\n",
       "    <tr>\n",
       "      <th>101</th>\n",
       "      <td>99. A shady business never results in a sunny ...</td>\n",
       "    </tr>\n",
       "    <tr>\n",
       "      <th>102</th>\n",
       "      <td>100. A sick man who takes a turn for the nurse...</td>\n",
       "    </tr>\n",
       "  </tbody>\n",
       "</table>\n",
       "<p>103 rows × 1 columns</p>\n",
       "</div>"
      ],
      "text/plain": [
       "                                               sayings\n",
       "0    1. “In the end, it’s not the years in your lif...\n",
       "1    2. “The greatest day in your life and mine is ...\n",
       "2    3. “Life is not a problem to be solved, but a ...\n",
       "3    4. “What we think determines what happens to u...\n",
       "4    5. Adolescence: When youth assumes the respons...\n",
       "..                                                 ...\n",
       "98   96. A practical nurse is one who marries a wea...\n",
       "99   97. A rabbit’s foot is a poor substitute for h...\n",
       "100  98. A raving beauty is a girl who finished sec...\n",
       "101  99. A shady business never results in a sunny ...\n",
       "102  100. A sick man who takes a turn for the nurse...\n",
       "\n",
       "[103 rows x 1 columns]"
      ]
     },
     "execution_count": 12,
     "metadata": {},
     "output_type": "execute_result"
    }
   ],
   "source": [
    "wisdom"
   ]
  },
  {
   "cell_type": "code",
   "execution_count": 13,
   "metadata": {},
   "outputs": [
    {
     "data": {
      "text/html": [
       "<div>\n",
       "<style scoped>\n",
       "    .dataframe tbody tr th:only-of-type {\n",
       "        vertical-align: middle;\n",
       "    }\n",
       "\n",
       "    .dataframe tbody tr th {\n",
       "        vertical-align: top;\n",
       "    }\n",
       "\n",
       "    .dataframe thead th {\n",
       "        text-align: right;\n",
       "    }\n",
       "</style>\n",
       "<table border=\"1\" class=\"dataframe\">\n",
       "  <thead>\n",
       "    <tr style=\"text-align: right;\">\n",
       "      <th></th>\n",
       "      <th>sayings</th>\n",
       "      <th>sayings_sliceing</th>\n",
       "    </tr>\n",
       "  </thead>\n",
       "  <tbody>\n",
       "    <tr>\n",
       "      <th>0</th>\n",
       "      <td>1. “In the end, it’s not the years in your lif...</td>\n",
       "      <td>“In the end, it’s not the years in your life t...</td>\n",
       "    </tr>\n",
       "    <tr>\n",
       "      <th>1</th>\n",
       "      <td>2. “The greatest day in your life and mine is ...</td>\n",
       "      <td>“The greatest day in your life and mine is whe...</td>\n",
       "    </tr>\n",
       "    <tr>\n",
       "      <th>2</th>\n",
       "      <td>3. “Life is not a problem to be solved, but a ...</td>\n",
       "      <td>“Life is not a problem to be solved, but a rea...</td>\n",
       "    </tr>\n",
       "    <tr>\n",
       "      <th>3</th>\n",
       "      <td>4. “What we think determines what happens to u...</td>\n",
       "      <td>“What we think determines what happens to us, ...</td>\n",
       "    </tr>\n",
       "    <tr>\n",
       "      <th>4</th>\n",
       "      <td>5. Adolescence: When youth assumes the respons...</td>\n",
       "      <td>Adolescence: When youth assumes the responsibi...</td>\n",
       "    </tr>\n",
       "    <tr>\n",
       "      <th>...</th>\n",
       "      <td>...</td>\n",
       "      <td>...</td>\n",
       "    </tr>\n",
       "    <tr>\n",
       "      <th>98</th>\n",
       "      <td>96. A practical nurse is one who marries a wea...</td>\n",
       "      <td>A practical nurse is one who marries a wealth...</td>\n",
       "    </tr>\n",
       "    <tr>\n",
       "      <th>99</th>\n",
       "      <td>97. A rabbit’s foot is a poor substitute for h...</td>\n",
       "      <td>A rabbit’s foot is a poor substitute for hors...</td>\n",
       "    </tr>\n",
       "    <tr>\n",
       "      <th>100</th>\n",
       "      <td>98. A raving beauty is a girl who finished sec...</td>\n",
       "      <td>A raving beauty is a girl who finished second...</td>\n",
       "    </tr>\n",
       "    <tr>\n",
       "      <th>101</th>\n",
       "      <td>99. A shady business never results in a sunny ...</td>\n",
       "      <td>A shady business never results in a sunny life.</td>\n",
       "    </tr>\n",
       "    <tr>\n",
       "      <th>102</th>\n",
       "      <td>100. A sick man who takes a turn for the nurse...</td>\n",
       "      <td>. A sick man who takes a turn for the nurse is...</td>\n",
       "    </tr>\n",
       "  </tbody>\n",
       "</table>\n",
       "<p>103 rows × 2 columns</p>\n",
       "</div>"
      ],
      "text/plain": [
       "                                               sayings  \\\n",
       "0    1. “In the end, it’s not the years in your lif...   \n",
       "1    2. “The greatest day in your life and mine is ...   \n",
       "2    3. “Life is not a problem to be solved, but a ...   \n",
       "3    4. “What we think determines what happens to u...   \n",
       "4    5. Adolescence: When youth assumes the respons...   \n",
       "..                                                 ...   \n",
       "98   96. A practical nurse is one who marries a wea...   \n",
       "99   97. A rabbit’s foot is a poor substitute for h...   \n",
       "100  98. A raving beauty is a girl who finished sec...   \n",
       "101  99. A shady business never results in a sunny ...   \n",
       "102  100. A sick man who takes a turn for the nurse...   \n",
       "\n",
       "                                      sayings_sliceing  \n",
       "0    “In the end, it’s not the years in your life t...  \n",
       "1    “The greatest day in your life and mine is whe...  \n",
       "2    “Life is not a problem to be solved, but a rea...  \n",
       "3    “What we think determines what happens to us, ...  \n",
       "4    Adolescence: When youth assumes the responsibi...  \n",
       "..                                                 ...  \n",
       "98    A practical nurse is one who marries a wealth...  \n",
       "99    A rabbit’s foot is a poor substitute for hors...  \n",
       "100   A raving beauty is a girl who finished second...  \n",
       "101    A shady business never results in a sunny life.  \n",
       "102  . A sick man who takes a turn for the nurse is...  \n",
       "\n",
       "[103 rows x 2 columns]"
      ]
     },
     "execution_count": 13,
     "metadata": {},
     "output_type": "execute_result"
    }
   ],
   "source": [
    "wisdom['sayings_sliceing'] = wisdom.sayings.str[3:] #series slicing 채득함..휴ㅠㅜㅠㅜㅠㅜ\n",
    "wisdom"
   ]
  },
  {
   "cell_type": "code",
   "execution_count": 14,
   "metadata": {},
   "outputs": [
    {
     "data": {
      "text/plain": [
       "sayings             0\n",
       "sayings_sliceing    0\n",
       "dtype: int64"
      ]
     },
     "execution_count": 14,
     "metadata": {},
     "output_type": "execute_result"
    }
   ],
   "source": [
    "wisdom.isnull().sum()"
   ]
  },
  {
   "cell_type": "code",
   "execution_count": 15,
   "metadata": {},
   "outputs": [],
   "source": [
    "#wordcloud; 단어의 빈도수 데이터를 가지고 시각화 하는 법\n",
    "from wordcloud import WordCloud, STOPWORDS\n",
    "from PIL import Image\n",
    "import urllib\n",
    "import requests\n",
    "import matplotlib.pyplot as plt\n",
    "%matplotlib inline"
   ]
  },
  {
   "cell_type": "markdown",
   "metadata": {},
   "source": [
    "conda install -c conda-forge wordcloud"
   ]
  },
  {
   "cell_type": "code",
   "execution_count": 17,
   "metadata": {},
   "outputs": [],
   "source": [
    "words = 'In the end, it’s not the years in your life that count It’s the life in your years. Abraham Lincoln The greatest day in your life and mine is when we take total responsibility for our attitudes That’s the day we truly grow up. John C. Maxwell Life is not a problem to be solved, but a reality to be experienced. Soren Kierkegaard What we think determines what happens to us, so if we want to change our lives, we need to stretch our minds. Wayne Dyer. Adolescence: When youth assumes the responsibility for answering the phone. Adult education often begins with a teenage marriage. Alimony is sometimes known as bounty on the mutiny. Alimony is the high cost of leaving. All children, even those who don’t deserve it, need love. All people are equal but it’s what they’re equal to that counts.'\n"
   ]
  },
  {
   "cell_type": "code",
   "execution_count": 26,
   "metadata": {},
   "outputs": [],
   "source": [
    "words = 'access guest guest apartment area area bathroom bed bed bed bed bed bedroom block coffee coffee coffee coffee entrance entry francisco free garden guest home house kettle kettle kitchen kitchen kitchen kitchen kitchen kitchenliving located microwave neighborhood new park parking place privacy private queen room san separate seperate shared space space space street suite time welcome'"
   ]
  },
  {
   "cell_type": "code",
   "execution_count": 44,
   "metadata": {},
   "outputs": [],
   "source": [
    "words =' In the end, it’s not the years in your life that count It’s the life in your years Abraham Lincoln The greatest day in your life and mine is when we take total responsibility for our attitudes That’s the day we truly grow up.” John C. Maxwell Life is not a problem to be solved, but a reality to be experienced Soren Kierkegaard What we think determines what happens to us, so if we want to change our lives, we need to stretch our minds Wayne Dyer Adolescence: When youth assumes the responsibility for answering the phone Adult education often begins with a teenage marriage Alimony is sometimes known as bounty on the mutiny Alimony is the high cost of leaving All children, even those who don’t deserve it, need love All people are equal but it’s what they’re equal to that counts 10 Life isn’t about finding yourself. Life is about creating yourself George Bernard Shaw There is more to life than increasing its speed Mahatma Gandhi Life is really simple, but we insist on making it complicated Confucius Our prime purpose in this life is to help others. And if you can’t help them, at least don’t hurt them.” Dalai Lama There are three constants in life…change, choice and principles Stephen Covey Life is ten percent what happens to you and ninety percent how you respond to it Lou Holtz Believe that life is worth living and your belief will help create the fact William James The only disability in life is a bad attitude Scott Hamilton Life’s most persistent and urgent question is, ‘What are you doing for others? Martin Luther King, Jr Life is a series of natural and spontaneous changes Don’t resist them–that only creates sorrow. Let reality be reality Let things flow naturally forward in whatever way they like Lao Tzu Change is the law of life. And those who look only to the past or present are certain to miss the future John F. Kennedy Only a life lived for others is a life worthwhile.” Albert Einstein When life is too easy for us, we must beware or we may not be ready to meet the blows which sooner or later come to everyone, rich or poor Eleanor Roosevelt God gave us the gift of life; it is up to us to give ourselves the gift of living well We make a living by what we get, but we make a life by what we give Winston Churchill All life is an experiment. The more experiments you make the better Ralph Waldo Emerson My mission in life is not merely to survive, but to thrive; and to do so with some passion, some compassion, some humor, and some style.” Maya Angelou Once you say you’re going to settle for second, that’s what happens to you in life John F Kennedy Common Sayings Everyone Should Know The quality of a person’s life is in direct proportion to their commitment to excellence, regardless of their chosen field of endeavor Vince Lombardi Communication is a skill that you can learn. It’s like riding a bicycle or typing If you’re willing to work at it, you can rapidly improve the quality of every part of your life Brian Tracy Today is life–the only life you are sure of Make the most of today. Get interested in something Shake yourself awake Develop a hobby Let the winds of enthusiasm sweep through you Live today with gusto Dale Carnegie The secret of success is learning how to use pain and pleasure instead of having pain and pleasure use you. If you do that, you’re in control of your life. If you don’t, life controls you Tony Robbins In three words I can sum up everything I’ve learned about life: it goes on Robert Frost There is no passion to be found playing small–in settling for a life that is less than the one you are capable of living Nelson Mandela If you don’t design your own life plan, chances are you’ll fall into someone else’s plan. And guess what they have planned for you? Not much Jim Rohn I’ve failed over and over and over again in my life and that is why I succeed Michael Jordan The biggest adventure you can take is to live the life of your dreams Oprah Winfrey Literature adds to reality, it does not simply describe it. It enriches the necessary competencies that daily life requires and provides and in this respect, it irrigates the deserts that our lives have already become C S Lewis Anyone who stops learning is old, whether at twenty or eighty Anyone who keeps learning stays young The greatest thing in life is to keep your mind young Henry Ford Many of life’s failures are people who did not realize how close they were to success when they gave up Thomas A Edison The most difficult thing is the decision to act, the rest is merely tenacity. The fears are paper tigers. You can do anything you decide to do You can act to change and control your life; and the procedure, the process is its own reward Amelia Earhart A person with a green thumb seldom paints a town red A gossip is one who keeps a swivel tongue in her head A kiss is a contraction of the mouth due to an enlargement of the heart A lawyer is one who is summoned when a felon needs a friend A lot of happiness is overlooked because it doesn’t cost anything One person cannot hold another person down without stooping People grow through experience if they meet life honestly and courageously This is how character is built Eleanor Roosevelt Remember your dreams and fight for them. You must know what you want from life There is just one thing that makes your dream become impossible: the fear of failure Paulo Coelho Our greatest happiness does not depend on the condition of life in which chance has placed us, but is always the result of a good conscience, good health, occupation, and freedom in all just pursuits.” Thomas Jefferson More Inspiring Wise Sayings We have always held to the hope, the belief, the conviction that there is a better life, a better world, beyond the horizon Franklin D. Roosevelt Life takes on meaning when you become motivated, set goals and charge after them in an unstoppable manner Les Brown Life is a daring adventure or nothing at all Helen Keller The ultimate value of life depends upon awareness and the power of contemplation rather than upon mere survival Aristotle Don’t take life too seriously. You’ll never get out of it alive Elbert Hubbard Each life is made up of mistakes and learning, waiting and growing, practicing patience and being persistent Billy Graham Each person must live their life as a model for others. Rosa Parks A fool empties his head every time he opens his mouth A friend is one who knows all about you and loves you just the same A friend who is not in need could be a friend indeed A girl who is free for the evening could be very expensive All the world loves a lover–unless waiting for the phone he’s using All too often a clear conscience is merely the result of a bad memory My philosophy of life is that if we make up our mind what we are going to make of our lives, then work hard toward that goal, we never lose–somehow we win out Ronald Reagan Life is not about how fast you run or how high you climb, but how well you bounce Vivian Komori A diplomat is one who can bring home the bacon without spilling the beans A dog has many friends because he wags his tail instead of his tongue A dogmatic person always has concrete opinions thoroughly mixed and permanently set A false friend and a shadow attend only when the sun shines A fine is a tax for doing wrong. A tax is a fine for doing well A first grade teacher is one who knows how to make little things count A folk singer is a person who gets rich singing about how wonderful it is to be poor All too often you read the directions only to find out what you did wrong Almost invariably a successful man appears simple but is very wise A good example of give and take is to take pains to give happiness A good father, finding his son on the wrong track, will provide switching facilities A good idea that is shared with others will live forever A good listener is not only popular, but he learns while he listens A good reputation is precious, but a good character is priceless A good salesman is one who convinces his wife she looks fat in a fur coat A gossip is one who has a sense of rumor A mere suggestion, when made by the boss, often assumes the importance of a command A mysterious envelope will be mailed to you with a little window in it. Pay it A perfect example of minority rule is a baby in the house A person who shows promise has learned how to keep them A person is not rewarded for having brains, but only for using them You soon learn how little you know when a child begins to ask questions A man too often shows his worst side to his better half A person who cannot lead and will not follow invariable obstructs If you are contented with what you have done, you will never reach your potential If you are in love with yourself, you will never have many rivals A person who is wrong but won’t admit it often gets angry Your character is measured by what you would do if you knew you wouldn’t be found out A philosopher is a man who knows exactly what to do until it happens to him A practical nurse is one who marries a wealthy patient A rabbit’s foot is a poor substitute for horse sense A raving beauty is a girl who finished second in a beauty contest A shady business never results in a sunny life A sick man who takes a turn for the nurse is getting better' "
   ]
  },
  {
   "cell_type": "code",
   "execution_count": 19,
   "metadata": {},
   "outputs": [],
   "source": [
    "import numpy as np"
   ]
  },
  {
   "cell_type": "code",
   "execution_count": 40,
   "metadata": {},
   "outputs": [],
   "source": [
    "mask1=np.array(Image.open(requests.get('https://png.pngtree.com/png-clipart/20190614/original/pngtree-light-bulb-flat-multi-color-icon-png-image_3777160.jpg', stream=True).raw))"
   ]
  },
  {
   "cell_type": "code",
   "execution_count": 31,
   "metadata": {},
   "outputs": [],
   "source": [
    "mask2 = np.array(Image.open(requests.get('http://www.clker.com/cliparts/O/i/x/Y/q/P/yellow-house-hi.png', stream=True).raw))"
   ]
  },
  {
   "cell_type": "code",
   "execution_count": 45,
   "metadata": {},
   "outputs": [],
   "source": [
    "def generate_wordcloud(words,mask):\n",
    "    word_cloud = WordCloud(width = 512\n",
    "                          ,height = 512\n",
    "                          ,background_color='white'\n",
    "                          ,stopwords=STOPWORDS\n",
    "                          ,mask=mask1).generate(words)\n",
    "    plt.figure(figsize(10,8), facecolor='white',edgecolor='blue')\n",
    "    plt.imshow(word_cloud)\n",
    "    plt.axis('off')\n",
    "    plt.tight_layout(pad=0)\n",
    "    plt.show()\n"
   ]
  },
  {
   "cell_type": "code",
   "execution_count": 46,
   "metadata": {},
   "outputs": [
    {
     "name": "stdout",
     "output_type": "stream",
     "text": [
      "Using matplotlib backend: Qt5Agg\n",
      "Populating the interactive namespace from numpy and matplotlib\n"
     ]
    }
   ],
   "source": [
    "%pylab\n",
    "generate_wordcloud(words,mask)"
   ]
  },
  {
   "cell_type": "code",
   "execution_count": null,
   "metadata": {},
   "outputs": [],
   "source": []
  }
 ],
 "metadata": {
  "kernelspec": {
   "display_name": "Python 3",
   "language": "python",
   "name": "python3"
  },
  "language_info": {
   "codemirror_mode": {
    "name": "ipython",
    "version": 3
   },
   "file_extension": ".py",
   "mimetype": "text/x-python",
   "name": "python",
   "nbconvert_exporter": "python",
   "pygments_lexer": "ipython3",
   "version": "3.7.3"
  }
 },
 "nbformat": 4,
 "nbformat_minor": 2
}
